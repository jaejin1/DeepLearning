{
 "cells": [
  {
   "cell_type": "code",
   "execution_count": 1,
   "metadata": {},
   "outputs": [
    {
     "name": "stdout",
     "output_type": "stream",
     "text": [
      "Extracting ./mnist/data/train-images-idx3-ubyte.gz\n",
      "Extracting ./mnist/data/train-labels-idx1-ubyte.gz\n",
      "Extracting ./mnist/data/t10k-images-idx3-ubyte.gz\n",
      "Extracting ./mnist/data/t10k-labels-idx1-ubyte.gz\n"
     ]
    }
   ],
   "source": [
    "import tensorflow as tf\n",
    "import matplotlib.pyplot as plt\n",
    "import numpy as np\n",
    "\n",
    "from tensorflow.examples.tutorials.mnist import input_data\n",
    "mnist = input_data.read_data_sets(\"./mnist/data/\", one_hot=True)"
   ]
  },
  {
   "cell_type": "code",
   "execution_count": 2,
   "metadata": {
    "collapsed": true
   },
   "outputs": [],
   "source": [
    "total_epoch = 100\n",
    "batch_size = 100\n",
    "learning_rate = 0.0002\n",
    "# 신경망 레이어\n",
    "n_hidden = 256\n",
    "n_input = 28 * 28\n",
    "n_noise = 128 # 생성기의 입력값으로 사용할 노이즈 크기\n",
    "\n"
   ]
  },
  {
   "cell_type": "code",
   "execution_count": 3,
   "metadata": {
    "collapsed": true
   },
   "outputs": [],
   "source": [
    "## 신경망 모델 구성\n",
    "\n",
    "X = tf.placeholder(tf.float32, [None, n_input])\n",
    "\n",
    "# 노이즈 Z를 입력값으로 사용한다.\n",
    "Z = tf.placeholder(tf.float32, [None, n_noise])\n",
    "\n",
    "# 생성기 신경망에 사용하는 변수들이다.\n",
    "G_W1 = tf.Variable(tf.random_normal([n_noise, n_hidden], stddev=0.01))\n",
    "G_b1 = tf.Variable(tf.zeros([n_hidden]))\n",
    "G_W2 = tf.Variable(tf.random_normal([n_hidden, n_input], stddev=0.01))\n",
    "G_b2 = tf.Variable(tf.zeros([n_input]))\n",
    "\n",
    "# 판별기 신경망에 사용하는 변수들이다.\n",
    "D_W1 = tf.Variable(tf.random_normal([n_input, n_hidden], stddev = 0.01))\n",
    "D_b1 = tf.Variable(tf.zeros([n_hidden]))\n",
    "# 판별기의 최종 결과값은 얼마나 진짜와 가깝냐를 판단하는 한 개의 스칼라값이다.\n",
    "D_W2 = tf.Variable(tf.random_normal([n_hidden, 1], stddev=0.01))\n",
    "D_b2 = tf.Variable(tf.zeros([1]))\n"
   ]
  },
  {
   "cell_type": "code",
   "execution_count": 4,
   "metadata": {
    "collapsed": true
   },
   "outputs": [],
   "source": [
    "# 생성기(G) 신경망 구성\n",
    "\n",
    "def generator(noise_z):\n",
    "    hidden = tf.nn.relu(tf.matmul(noise_z, G_W1) + G_b1)\n",
    "    output = tf.nn.sigmoid(tf.matmul(hidden, G_W2) + G_b2)\n",
    "    \n",
    "    return output\n",
    "\n",
    "# 판별기(D) 신경망 구성\n",
    "\n",
    "def discriminator(inputs):\n",
    "    hidden = tf.nn.relu(tf.matmul(inputs, D_W1) + D_b1)\n",
    "    output = tf.nn.sigmoid(tf.matmul(hidden, D_W2) + D_b2)\n",
    "    \n",
    "    return output\n",
    "\n",
    "# 랜덤한 노이즈 (Z)를 만든다.\n",
    "\n",
    "def get_noise(batch_size, n_noise):\n",
    "    return np.random.normal(size=(batch_size, n_noise))"
   ]
  },
  {
   "cell_type": "code",
   "execution_count": 5,
   "metadata": {
    "collapsed": true
   },
   "outputs": [],
   "source": [
    "# 노이즈를 이용해 랜덤한 이미지 생성.\n",
    "G = generator(Z)\n",
    "# 노이즈를 이용해 생성한 이미지가 진짜 이미지인지 판별한 값을 구한다.\n",
    "D_gene = discriminator(G)\n",
    "# 진짜 이미지를 이용해 판별한 값을 구한다.\n",
    "D_real = discriminator(X)"
   ]
  },
  {
   "cell_type": "code",
   "execution_count": 10,
   "metadata": {
    "collapsed": true
   },
   "outputs": [],
   "source": [
    "# 논문에 따르면, GAN 모델의 최적화는 loss_G 와 loss_D 를 최대화 하는 것 입니다.\n",
    "# 다만 loss_D와 loss_G는 서로 연관관계가 있기 때문에 두 개의 손실값이 항상 같이 증가하는 경향을 보이지는 않을 것 입니다.\n",
    "# loss_D가 증가하려면 loss_G는 하락해야하고, loss_G가 증가하려면 loss_D는 하락해야하는 경쟁관계에 있기 때문입니다.\n",
    "# 논문의 수식에 따른 다음 로직을 보면 loss_D 를 최대화하기 위해서는 D_gene 값을 최소화하게 됩니다.\n",
    "# 판별기에 진짜 이미지를 넣었을 때에도 최대값을 : tf.log(D_real)\n",
    "# 가짜 이미지를 넣었을 때에도 최대값을 : tf.log(1 - D_gene)\n",
    "# 갖도록 학습시키기 때문입니다.\n",
    "# 이것은 판별기는 생성기가 만들어낸 이미지가 가짜라고 판단하도록 판별기 신경망을 학습시킵니다.\n",
    "loss_D = tf.reduce_mean(tf.log(D_real) + tf.log(1 - D_gene))\n",
    "# 반면 loss_G 를 최대화하기 위해서는 D_gene 값을 최대화하게 되는데,\n",
    "# 이것은 가짜 이미지를 넣었을 때, 판별기가 최대한 실제 이미지라고 판단하도록 생성기 신경망을 학습시킵니다.\n",
    "# 논문에서는 loss_D 와 같은 수식으로 최소화 하는 생성기를 찾지만,\n",
    "# 결국 D_gene 값을 최대화하는 것이므로 다음과 같이 사용할 수 있습니다.\n",
    "loss_G = tf.reduce_mean(tf.log(1-D_gene))"
   ]
  },
  {
   "cell_type": "code",
   "execution_count": 11,
   "metadata": {
    "collapsed": true
   },
   "outputs": [],
   "source": [
    "# loss_D 를 구할 때는 판별기 신경망에 사용되는 변수만 사용하고,\n",
    "# loss_G 를 구할 때는 생성기 신경망에 사용되는 변수만 사용하여 최적화를 합니다.\n",
    "D_var_list = [D_W1, D_b1, D_W2, D_b2]\n",
    "G_var_list = [G_W1, G_b1, G_W2, G_b2]"
   ]
  },
  {
   "cell_type": "code",
   "execution_count": 12,
   "metadata": {
    "collapsed": true
   },
   "outputs": [],
   "source": [
    "# GAN 논문의 수식에 따르면 loss 를 극대화 해야하지만, minimize 하는 최적화 함수를 사용하기 때문에\n",
    "# 최적화 하려는 loss_D 와 loss_G 에 음수 부호를 붙여줍니다.\n",
    "train_D = tf.train.AdamOptimizer(learning_rate).minimize(-loss_D,\n",
    "                                                         var_list=D_var_list)\n",
    "train_G = tf.train.AdamOptimizer(learning_rate).minimize(loss_G,\n",
    "                                                         var_list=G_var_list)"
   ]
  },
  {
   "cell_type": "code",
   "execution_count": 13,
   "metadata": {},
   "outputs": [
    {
     "name": "stdout",
     "output_type": "stream",
     "text": [
      "Epoch: 0000 D loss: -0.5059 G loss: -0.1602\n",
      "Epoch: 0001 D loss: -0.3034 G loss: -0.1088\n",
      "Epoch: 0002 D loss: -0.08076 G loss: -0.03607\n",
      "Epoch: 0003 D loss: -0.2189 G loss: -0.0839\n",
      "Epoch: 0004 D loss: -0.318 G loss: -0.161\n",
      "Epoch: 0005 D loss: -0.4208 G loss: -0.1498\n",
      "Epoch: 0006 D loss: -0.2396 G loss: -0.05889\n",
      "Epoch: 0007 D loss: -0.2767 G loss: -0.1253\n",
      "Epoch: 0008 D loss: -0.3969 G loss: -0.1692\n",
      "Epoch: 0009 D loss: -0.2432 G loss: -0.1019\n",
      "Epoch: 0010 D loss: -0.5061 G loss: -0.2288\n",
      "Epoch: 0011 D loss: -0.3863 G loss: -0.1421\n",
      "Epoch: 0012 D loss: -0.447 G loss: -0.1678\n",
      "Epoch: 0013 D loss: -0.3859 G loss: -0.135\n",
      "Epoch: 0014 D loss: -0.1879 G loss: -0.1088\n",
      "Epoch: 0015 D loss: -0.5689 G loss: -0.2667\n",
      "Epoch: 0016 D loss: -0.3268 G loss: -0.149\n",
      "Epoch: 0017 D loss: -0.4499 G loss: -0.1463\n",
      "Epoch: 0018 D loss: -0.1986 G loss: -0.08395\n",
      "Epoch: 0019 D loss: -0.5048 G loss: -0.2183\n",
      "Epoch: 0020 D loss: -0.1841 G loss: -0.08565\n",
      "Epoch: 0021 D loss: -0.3775 G loss: -0.171\n",
      "Epoch: 0022 D loss: -0.3132 G loss: -0.1205\n",
      "Epoch: 0023 D loss: -0.3655 G loss: -0.1498\n",
      "Epoch: 0024 D loss: -0.278 G loss: -0.1283\n",
      "Epoch: 0025 D loss: -0.4493 G loss: -0.1219\n",
      "Epoch: 0026 D loss: -0.3399 G loss: -0.165\n",
      "Epoch: 0027 D loss: -0.3628 G loss: -0.185\n",
      "Epoch: 0028 D loss: -0.4607 G loss: -0.1177\n",
      "Epoch: 0029 D loss: -0.3302 G loss: -0.1767\n",
      "Epoch: 0030 D loss: -0.4292 G loss: -0.1833\n",
      "Epoch: 0031 D loss: -0.5222 G loss: -0.211\n",
      "Epoch: 0032 D loss: -0.3332 G loss: -0.1015\n",
      "Epoch: 0033 D loss: -0.2831 G loss: -0.1683\n",
      "Epoch: 0034 D loss: -0.4492 G loss: -0.167\n",
      "Epoch: 0035 D loss: -0.4519 G loss: -0.1649\n",
      "Epoch: 0036 D loss: -0.39 G loss: -0.1437\n",
      "Epoch: 0037 D loss: -0.5214 G loss: -0.1853\n",
      "Epoch: 0038 D loss: -0.484 G loss: -0.1839\n",
      "Epoch: 0039 D loss: -0.4113 G loss: -0.1807\n",
      "Epoch: 0040 D loss: -0.6052 G loss: -0.2176\n",
      "Epoch: 0041 D loss: -0.483 G loss: -0.2211\n",
      "Epoch: 0042 D loss: -0.4669 G loss: -0.221\n",
      "Epoch: 0043 D loss: -0.4092 G loss: -0.1815\n",
      "Epoch: 0044 D loss: -0.5394 G loss: -0.293\n",
      "Epoch: 0045 D loss: -0.5778 G loss: -0.2556\n",
      "Epoch: 0046 D loss: -0.4161 G loss: -0.1802\n",
      "Epoch: 0047 D loss: -0.4029 G loss: -0.1704\n",
      "Epoch: 0048 D loss: -0.5948 G loss: -0.2791\n",
      "Epoch: 0049 D loss: -0.4355 G loss: -0.2393\n",
      "Epoch: 0050 D loss: -0.5142 G loss: -0.3075\n",
      "Epoch: 0051 D loss: -0.6424 G loss: -0.2294\n",
      "Epoch: 0052 D loss: -0.6586 G loss: -0.2729\n",
      "Epoch: 0053 D loss: -0.502 G loss: -0.2708\n",
      "Epoch: 0054 D loss: -0.6905 G loss: -0.3197\n",
      "Epoch: 0055 D loss: -0.6498 G loss: -0.3404\n",
      "Epoch: 0056 D loss: -0.6995 G loss: -0.253\n",
      "Epoch: 0057 D loss: -0.5585 G loss: -0.2722\n",
      "Epoch: 0058 D loss: -0.6933 G loss: -0.3496\n",
      "Epoch: 0059 D loss: -0.5465 G loss: -0.2663\n",
      "Epoch: 0060 D loss: -0.6362 G loss: -0.2547\n",
      "Epoch: 0061 D loss: -0.588 G loss: -0.2031\n",
      "Epoch: 0062 D loss: -0.7201 G loss: -0.3217\n",
      "Epoch: 0063 D loss: -0.5642 G loss: -0.2214\n",
      "Epoch: 0064 D loss: -0.6337 G loss: -0.291\n",
      "Epoch: 0065 D loss: -0.6623 G loss: -0.3042\n",
      "Epoch: 0066 D loss: -0.8019 G loss: -0.4346\n",
      "Epoch: 0067 D loss: -0.6579 G loss: -0.2989\n",
      "Epoch: 0068 D loss: -0.6617 G loss: -0.2687\n",
      "Epoch: 0069 D loss: -0.6031 G loss: -0.292\n",
      "Epoch: 0070 D loss: -0.7022 G loss: -0.2997\n",
      "Epoch: 0071 D loss: -0.6326 G loss: -0.3126\n",
      "Epoch: 0072 D loss: -0.6226 G loss: -0.3063\n",
      "Epoch: 0073 D loss: -0.6818 G loss: -0.3668\n",
      "Epoch: 0074 D loss: -0.5776 G loss: -0.2817\n",
      "Epoch: 0075 D loss: -0.6037 G loss: -0.2829\n",
      "Epoch: 0076 D loss: -0.6157 G loss: -0.2602\n",
      "Epoch: 0077 D loss: -0.6827 G loss: -0.3372\n",
      "Epoch: 0078 D loss: -0.6986 G loss: -0.3091\n",
      "Epoch: 0079 D loss: -0.7033 G loss: -0.3221\n",
      "Epoch: 0080 D loss: -0.768 G loss: -0.4322\n",
      "Epoch: 0081 D loss: -0.7493 G loss: -0.2714\n",
      "Epoch: 0082 D loss: -0.6386 G loss: -0.2519\n",
      "Epoch: 0083 D loss: -0.6367 G loss: -0.3503\n",
      "Epoch: 0084 D loss: -0.6209 G loss: -0.3664\n",
      "Epoch: 0085 D loss: -0.7614 G loss: -0.391\n",
      "Epoch: 0086 D loss: -0.8108 G loss: -0.2971\n",
      "Epoch: 0087 D loss: -0.6562 G loss: -0.282\n",
      "Epoch: 0088 D loss: -0.6253 G loss: -0.3247\n",
      "Epoch: 0089 D loss: -0.5745 G loss: -0.2685\n",
      "Epoch: 0090 D loss: -0.5534 G loss: -0.2519\n",
      "Epoch: 0091 D loss: -0.6303 G loss: -0.2771\n",
      "Epoch: 0092 D loss: -0.5803 G loss: -0.2154\n",
      "Epoch: 0093 D loss: -0.6135 G loss: -0.2471\n",
      "Epoch: 0094 D loss: -0.6646 G loss: -0.2717\n",
      "Epoch: 0095 D loss: -0.6704 G loss: -0.3094\n",
      "Epoch: 0096 D loss: -0.6427 G loss: -0.302\n",
      "Epoch: 0097 D loss: -0.6133 G loss: -0.2753\n",
      "Epoch: 0098 D loss: -0.8203 G loss: -0.411\n",
      "Epoch: 0099 D loss: -0.6913 G loss: -0.2819\n",
      "끝!\n"
     ]
    }
   ],
   "source": [
    "### 모델 학습\n",
    "\n",
    "sess = tf.Session()\n",
    "sess.run(tf.global_variables_initializer())\n",
    "\n",
    "total_batch = int(mnist.train.num_examples/batch_size)\n",
    "loss_val_D , loss_val_G = 0, 0\n",
    "\n",
    "for epoch in range(total_epoch):\n",
    "    for i in range(total_batch):\n",
    "        batch_xs, batch_ys = mnist.train.next_batch(batch_size)\n",
    "        noise = get_noise(batch_size, n_noise)\n",
    "        \n",
    "        # 판별기와 생성기 신경망을 각각 학습시킨다.\n",
    "        _, loss_val_D = sess.run([train_D, loss_D], \n",
    "                                 feed_dict = {X: batch_xs, Z: noise})\n",
    "        _, loss_val_G = sess.run([train_G, loss_G], \n",
    "                                 feed_dict = {Z: noise})\n",
    "        \n",
    "    print('Epoch:', '%04d' % epoch,\n",
    "         'D loss: {:.4}'.format(loss_val_D),\n",
    "         'G loss: {:.4}'.format(loss_val_G))\n",
    "    \n",
    "    \n",
    "    ### 학습이 이뤄지는거 확인하기위해서 이미지 생성\n",
    "    \n",
    "    if epoch == 0 or (epoch + 1) % 10 == 0:\n",
    "        sample_size = 10\n",
    "        noise = get_noise(sample_size, n_noise)\n",
    "        samples = sess.run(G, feed_dict = {Z: noise})\n",
    "        \n",
    "        fig, ax = plt.subplots(1, sample_size , figsize=(sample_size, 1))\n",
    "        \n",
    "        for i in range(sample_size):\n",
    "            ax[i].set_axis_off()\n",
    "            ax[i].imshow(np.reshape(samples[i], (28, 28)))\n",
    "            \n",
    "        plt.savefig('samples/{}.png'.format(str(epoch).zfill(3)), bbox_inches='tight')\n",
    "        plt.close(fig)\n",
    "        \n",
    "print('끝!')       "
   ]
  },
  {
   "cell_type": "code",
   "execution_count": null,
   "metadata": {
    "collapsed": true
   },
   "outputs": [],
   "source": []
  }
 ],
 "metadata": {
  "kernelspec": {
   "display_name": "Python 3",
   "language": "python",
   "name": "python3"
  },
  "language_info": {
   "codemirror_mode": {
    "name": "ipython",
    "version": 3
   },
   "file_extension": ".py",
   "mimetype": "text/x-python",
   "name": "python",
   "nbconvert_exporter": "python",
   "pygments_lexer": "ipython3",
   "version": "3.5.2"
  }
 },
 "nbformat": 4,
 "nbformat_minor": 2
}
