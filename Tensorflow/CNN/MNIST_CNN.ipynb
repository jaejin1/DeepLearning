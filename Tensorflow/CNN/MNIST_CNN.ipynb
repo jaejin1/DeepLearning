{
 "cells": [
  {
   "cell_type": "code",
   "execution_count": 2,
   "metadata": {},
   "outputs": [
    {
     "name": "stdout",
     "output_type": "stream",
     "text": [
      "Extracting ./mnist/data/train-images-idx3-ubyte.gz\n",
      "Extracting ./mnist/data/train-labels-idx1-ubyte.gz\n",
      "Extracting ./mnist/data/t10k-images-idx3-ubyte.gz\n",
      "Extracting ./mnist/data/t10k-labels-idx1-ubyte.gz\n"
     ]
    }
   ],
   "source": [
    "import tensorflow as tf\n",
    "\n",
    "from tensorflow.examples.tutorials.mnist import input_data\n",
    "\n",
    "mnist = input_data.read_data_sets(\"./mnist/data/\", one_hot=True)"
   ]
  },
  {
   "cell_type": "code",
   "execution_count": 7,
   "metadata": {},
   "outputs": [
    {
     "name": "stdout",
     "output_type": "stream",
     "text": [
      "Tensor(\"Conv2D_8:0\", shape=(?, 28, 28, 32), dtype=float32)\n",
      "Tensor(\"MaxPool_8:0\", shape=(?, 14, 14, 32), dtype=float32)\n",
      "Tensor(\"MaxPool_9:0\", shape=(?, 7, 7, 64), dtype=float32)\n",
      "Tensor(\"Relu_14:0\", shape=(?, 256), dtype=float32)\n",
      "Tensor(\"dropout_4/mul:0\", shape=(?, 256), dtype=float32)\n",
      "----\n"
     ]
    }
   ],
   "source": [
    "# 신경망 모델\n",
    "\n",
    "X = tf.placeholder(tf.float32, [None, 28, 28, 1])\n",
    "Y = tf.placeholder(tf.float32, [None, 10])\n",
    "keep_prob = tf.placeholder(tf.float32)\n",
    "\n",
    "# L1 Conv shape=(?, 28, 28, 32)\n",
    "#    Pool     ->(?, 14, 14, 32)\n",
    "\n",
    "# 필터 개수 32개 3*3 커널 크기 \n",
    "W1 = tf.Variable(tf.random_normal([3,3,1,32], stddev=0.01))\n",
    "\n",
    "# padding = 'same' 은 커널 슬라이딩시 최외각에서 한칸 밖으로 더 움직이는 옵션\n",
    "L1 = tf.nn.conv2d(X, W1, strides = [1,1,1,1], padding = 'SAME')\n",
    "print(L1) # shape=(?, 28, 28, 32)\n",
    "L1 = tf.nn.relu(L1)\n",
    "L1 = tf.nn.max_pool(L1, ksize=[1,2,2,1], strides=[1,2,2,1], padding='SAME')\n",
    "# ksize = [1,2,2,1] 이란 뜻은 2칸씩 이동하면서 출력결과를 1개 만들어 낸다는 것이다.\n",
    "\n",
    "print(L1) #  shape=(?, 14, 14, 32)\n",
    "\n",
    "\n",
    "# L1 = tf.nn.dropout(L1, keep_prob)\n",
    "\n",
    "# L2 Conv shape=(?, 14, 14, 64)\n",
    "#    Pool     ->(?, 7, 7, 64)\n",
    "\n",
    "# 32 는 L1에서 출력된 W1의 마지막 차원, 필터의 크기이다.\n",
    "W2 = tf.Variable(tf.random_normal([3,3,32,64], stddev=0.01))\n",
    "L2 = tf.nn.conv2d(L1, W2, strides=[1,1,1,1], padding = 'SAME')\n",
    "L2 = tf.nn.relu(L2)\n",
    "L2 = tf.nn.max_pool(L2, ksize=[1,2,2,1], strides=[1,2,2,1], padding='SAME')\n",
    "\n",
    "print(L2)\n",
    "# L2 = tf.nn.dropout(L2, keep_prob)\n",
    "\n",
    "# FC 레이어: 입력값 7x7x64 -> 출력값 256\n",
    "# Full connect를 위해 직전의 Pool 사이즈인 (?, 7, 7, 64) 를 참고하여 차원을 줄여줍니다.\n",
    "\n",
    "W3 = tf.Variable(tf.random_normal([7*7*64, 256], stddev=0.01))\n",
    "L3 = tf.reshape(L2, [-1, 7*7*64])\n",
    "\n",
    "L3 = tf.matmul(L3, W3) # --\n",
    "L3 = tf.nn.relu(L3)\n",
    "print(L3)\n",
    "\n",
    "L3 = tf.nn.dropout(L3, keep_prob)\n",
    "print(L3)\n",
    "\n",
    "W4 = tf.Variable(tf.random_normal([256,10], stddev=0.01))\n",
    "model = tf.matmul(L3, W4)\n",
    "\n",
    "cost = tf.reduce_mean(tf.nn.softmax_cross_entropy_with_logits(logits=model, labels=Y))\n",
    "optimizer = tf.train.AdamOptimizer(0.001).minimize(cost)\n",
    "\n",
    "# optimizer = tf.train.RMSPropOptimizer(0.001, 0.9).minimize(cost)\n",
    "\n",
    "print('----')"
   ]
  },
  {
   "cell_type": "code",
   "execution_count": 3,
   "metadata": {
    "scrolled": true
   },
   "outputs": [
    {
     "name": "stdout",
     "output_type": "stream",
     "text": [
      "Epoch: 0001 Avg. cost = 0.342\n",
      "Epoch: 0002 Avg. cost = 0.107\n",
      "Epoch: 0003 Avg. cost = 0.078\n",
      "Epoch: 0004 Avg. cost = 0.058\n",
      "Epoch: 0005 Avg. cost = 0.049\n",
      "Epoch: 0006 Avg. cost = 0.040\n",
      "Epoch: 0007 Avg. cost = 0.036\n",
      "Epoch: 0008 Avg. cost = 0.031\n",
      "Epoch: 0009 Avg. cost = 0.027\n",
      "Epoch: 0010 Avg. cost = 0.024\n",
      "Epoch: 0011 Avg. cost = 0.021\n",
      "Epoch: 0012 Avg. cost = 0.020\n",
      "Epoch: 0013 Avg. cost = 0.017\n",
      "Epoch: 0014 Avg. cost = 0.016\n",
      "Epoch: 0015 Avg. cost = 0.015\n"
     ]
    }
   ],
   "source": [
    "# 학습\n",
    "\n",
    "init = tf.global_variables_initializer()\n",
    "sess = tf.Session()\n",
    "sess.run(init)\n",
    "\n",
    "batch_size = 100\n",
    "total_batch = int(mnist.train.num_examples / batch_size)\n",
    "\n",
    "for epoch in range(15):\n",
    "    total_cost = 0\n",
    "\n",
    "    for i in range(total_batch):\n",
    "        batch_xs, batch_ys = mnist.train.next_batch(batch_size)\n",
    "        # 이미지 데이터를 CNN 모델을 위한 자료형태인 [28 28 1] 의 형태로 재구성합니다.\n",
    "        batch_xs = batch_xs.reshape(-1, 28, 28, 1)\n",
    "\n",
    "        _, cost_val = sess.run([optimizer, cost],\n",
    "                               feed_dict={X: batch_xs,\n",
    "                                          Y: batch_ys,\n",
    "                                          keep_prob: 0.7})\n",
    "        total_cost += cost_val\n",
    "\n",
    "    print('Epoch:', '%04d' % (epoch + 1),\n",
    "          'Avg. cost =', '{:.3f}'.format(total_cost / total_batch))"
   ]
  },
  {
   "cell_type": "code",
   "execution_count": 4,
   "metadata": {},
   "outputs": [
    {
     "name": "stdout",
     "output_type": "stream",
     "text": [
      "정확도: 0.9903\n"
     ]
    }
   ],
   "source": [
    "is_correct = tf.equal(tf.argmax(model, 1), tf.argmax(Y, 1))\n",
    "accuracy = tf.reduce_mean(tf.cast(is_correct, tf.float32))\n",
    "print('정확도:', sess.run(accuracy,\n",
    "                        feed_dict={X: mnist.test.images.reshape(-1, 28, 28, 1),\n",
    "                                   Y: mnist.test.labels,\n",
    "                                   keep_prob: 1}))"
   ]
  },
  {
   "cell_type": "code",
   "execution_count": null,
   "metadata": {},
   "outputs": [],
   "source": []
  }
 ],
 "metadata": {
  "kernelspec": {
   "display_name": "Python 3",
   "language": "python",
   "name": "python3"
  },
  "language_info": {
   "codemirror_mode": {
    "name": "ipython",
    "version": 3
   },
   "file_extension": ".py",
   "mimetype": "text/x-python",
   "name": "python",
   "nbconvert_exporter": "python",
   "pygments_lexer": "ipython3",
   "version": "3.5.4"
  }
 },
 "nbformat": 4,
 "nbformat_minor": 2
}
