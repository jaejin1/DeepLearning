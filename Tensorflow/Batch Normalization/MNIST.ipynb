{
 "cells": [
  {
   "cell_type": "code",
   "execution_count": 1,
   "metadata": {},
   "outputs": [
    {
     "name": "stdout",
     "output_type": "stream",
     "text": [
      "Successfully downloaded train-images-idx3-ubyte.gz 9912422 bytes.\n",
      "Extracting ./mnist/data/train-images-idx3-ubyte.gz\n",
      "Successfully downloaded train-labels-idx1-ubyte.gz 28881 bytes.\n",
      "Extracting ./mnist/data/train-labels-idx1-ubyte.gz\n",
      "Successfully downloaded t10k-images-idx3-ubyte.gz 1648877 bytes.\n",
      "Extracting ./mnist/data/t10k-images-idx3-ubyte.gz\n",
      "Successfully downloaded t10k-labels-idx1-ubyte.gz 4542 bytes.\n",
      "Extracting ./mnist/data/t10k-labels-idx1-ubyte.gz\n"
     ]
    }
   ],
   "source": [
    "import tensorflow as tf\n",
    "\n",
    "from tensorflow.examples.tutorials.mnist import input_data\n",
    "\n",
    "mnist = input_data.read_data_sets(\"./mnist/data/\", one_hot=True)\n",
    "\n"
   ]
  },
  {
   "cell_type": "code",
   "execution_count": 15,
   "metadata": {},
   "outputs": [],
   "source": [
    "X = tf.placeholder(tf.float32, [None, 784])\n",
    "Y = tf.placeholder(tf.float32, [None, 10])\n",
    "\n",
    "W1 = tf.Variable(tf.random_normal([784, 256], stddev=0.01))\n",
    "L1 = tf.nn.relu(tf.matmul(X, W1))\n",
    "\n",
    "\n",
    "B1 = tf.contrib.layers.batch_norm(L1)\n",
    "W2 = tf.Variable(tf.random_normal([256,256], stddev=0.01))\n",
    "L2 = tf.nn.relu(tf.matmul(B1, W2))\n",
    "\n",
    "\n",
    "B2 = tf.contrib.layers.batch_norm(L2)\n",
    "W3 = tf.Variable(tf.random_normal([256,10], stddev=0.01))\n",
    "\n",
    "model = tf.matmul(B2, W3)\n",
    "\n",
    "cost = tf.reduce_mean(tf.nn.softmax_cross_entropy_with_logits(logits=model, labels=Y))\n",
    "optimizer = tf.train.AdamOptimizer(0.001).minimize(cost)"
   ]
  },
  {
   "cell_type": "code",
   "execution_count": 17,
   "metadata": {},
   "outputs": [
    {
     "name": "stdout",
     "output_type": "stream",
     "text": [
      "Epoch: 0001 Avg. cost =  0.00025713\n",
      "Epoch: 0002 Avg. cost =  0.00023365\n",
      "Epoch: 0003 Avg. cost =  0.00005378\n",
      "Epoch: 0004 Avg. cost =  0.00003020\n",
      "Epoch: 0005 Avg. cost =  0.00016843\n",
      "Epoch: 0006 Avg. cost =  0.00007312\n",
      "Epoch: 0007 Avg. cost =  0.00007505\n",
      "Epoch: 0008 Avg. cost =  0.00003660\n",
      "Epoch: 0009 Avg. cost =  0.00001423\n",
      "Epoch: 0010 Avg. cost =  0.00019203\n",
      "Epoch: 0011 Avg. cost =  0.00001220\n",
      "Epoch: 0012 Avg. cost =  0.00003894\n",
      "Epoch: 0013 Avg. cost =  0.00005632\n",
      "Epoch: 0014 Avg. cost =  0.00000153\n",
      "Epoch: 0015 Avg. cost =  0.00002879\n",
      "최적화 완료\n"
     ]
    }
   ],
   "source": [
    "# 학습\n",
    "\n",
    "init = tf.global_variables_initializer()\n",
    "sess = tf.Session()\n",
    "sess.run(init)\n",
    "\n",
    "batch_size = 100\n",
    "total_batch = int(mnist.train.num_examples / batch_size)\n",
    "\n",
    "\n",
    "for epoch in range(15):\n",
    "    total_cost = 0\n",
    "    \n",
    "    for i in range(total_batch):\n",
    "        batch_xs, batch_ys = mnist.train.next_batch(batch_size)\n",
    "        \n",
    "        _, cost_val = sess.run([optimizer, cost], feed_dict={X: batch_xs, Y: batch_ys})\n",
    "        total_cost = cost_val\n",
    "        \n",
    "    print('Epoch:', '%04d' % (epoch + 1),\n",
    "         'Avg. cost = ', '{:.8f}'.format(total_cost / total_batch))\n",
    "    \n",
    "print('최적화 완료')\n"
   ]
  },
  {
   "cell_type": "code",
   "execution_count": 18,
   "metadata": {},
   "outputs": [
    {
     "name": "stdout",
     "output_type": "stream",
     "text": [
      "정확도: 0.9821\n"
     ]
    }
   ],
   "source": [
    "# 결과확인\n",
    "\n",
    "is_correct = tf.equal(tf.argmax(model, 1), tf.argmax(Y, 1))\n",
    "\n",
    "accuracy = tf.reduce_mean(tf.cast(is_correct, tf.float32))\n",
    "\n",
    "print('정확도:', sess.run(accuracy, feed_dict = {X: mnist.test.images,\n",
    "                                             Y: mnist.test.labels}))"
   ]
  },
  {
   "cell_type": "code",
   "execution_count": null,
   "metadata": {},
   "outputs": [],
   "source": []
  },
  {
   "cell_type": "code",
   "execution_count": 19,
   "metadata": {},
   "outputs": [],
   "source": [
    "X = tf.placeholder(tf.float32, [None, 784])\n",
    "Y = tf.placeholder(tf.float32, [None, 10])\n",
    "\n",
    "W1 = tf.Variable(tf.random_normal([784, 256], stddev=0.01))\n",
    "L1 = tf.nn.relu(tf.matmul(X, W1))\n",
    "\n",
    "W2 = tf.Variable(tf.random_normal([256,256], stddev=0.01))\n",
    "L2 = tf.nn.relu(tf.matmul(L1, W2))\n",
    "\n",
    "W3 = tf.Variable(tf.random_normal([256,10], stddev=0.01))\n",
    "\n",
    "model = tf.matmul(L2, W3)\n",
    "\n",
    "cost = tf.reduce_mean(tf.nn.softmax_cross_entropy_with_logits(logits=model, labels=Y))\n",
    "optimizer = tf.train.AdamOptimizer(0.001).minimize(cost)"
   ]
  },
  {
   "cell_type": "code",
   "execution_count": 20,
   "metadata": {},
   "outputs": [
    {
     "name": "stdout",
     "output_type": "stream",
     "text": [
      "Epoch: 0001 Avg. cost =  0.00031037\n",
      "Epoch: 0002 Avg. cost =  0.00017503\n",
      "Epoch: 0003 Avg. cost =  0.00041368\n",
      "Epoch: 0004 Avg. cost =  0.00016741\n",
      "Epoch: 0005 Avg. cost =  0.00005192\n",
      "Epoch: 0006 Avg. cost =  0.00017858\n",
      "Epoch: 0007 Avg. cost =  0.00005555\n",
      "Epoch: 0008 Avg. cost =  0.00002123\n",
      "Epoch: 0009 Avg. cost =  0.00004934\n",
      "Epoch: 0010 Avg. cost =  0.00008984\n",
      "Epoch: 0011 Avg. cost =  0.00000713\n",
      "Epoch: 0012 Avg. cost =  0.00000435\n",
      "Epoch: 0013 Avg. cost =  0.00005627\n",
      "Epoch: 0014 Avg. cost =  0.00002628\n",
      "Epoch: 0015 Avg. cost =  0.00000548\n",
      "최적화 완료\n"
     ]
    }
   ],
   "source": [
    "# 학습\n",
    "\n",
    "init = tf.global_variables_initializer()\n",
    "sess = tf.Session()\n",
    "sess.run(init)\n",
    "\n",
    "batch_size = 100\n",
    "total_batch = int(mnist.train.num_examples / batch_size)\n",
    "\n",
    "\n",
    "for epoch in range(15):\n",
    "    total_cost = 0\n",
    "    \n",
    "    for i in range(total_batch):\n",
    "        batch_xs, batch_ys = mnist.train.next_batch(batch_size)\n",
    "        \n",
    "        _, cost_val = sess.run([optimizer, cost], feed_dict={X: batch_xs, Y: batch_ys})\n",
    "        total_cost = cost_val\n",
    "        \n",
    "    print('Epoch:', '%04d' % (epoch + 1),\n",
    "         'Avg. cost = ', '{:.8f}'.format(total_cost / total_batch))\n",
    "    \n",
    "print('최적화 완료')\n",
    "\n"
   ]
  },
  {
   "cell_type": "code",
   "execution_count": 21,
   "metadata": {},
   "outputs": [
    {
     "name": "stdout",
     "output_type": "stream",
     "text": [
      "정확도: 0.9739\n"
     ]
    }
   ],
   "source": [
    "# 결과확인\n",
    "\n",
    "is_correct = tf.equal(tf.argmax(model, 1), tf.argmax(Y, 1))\n",
    "\n",
    "accuracy = tf.reduce_mean(tf.cast(is_correct, tf.float32))\n",
    "\n",
    "print('정확도:', sess.run(accuracy, feed_dict = {X: mnist.test.images,\n",
    "                                             Y: mnist.test.labels}))"
   ]
  },
  {
   "cell_type": "code",
   "execution_count": null,
   "metadata": {},
   "outputs": [],
   "source": []
  }
 ],
 "metadata": {
  "kernelspec": {
   "display_name": "Python 3",
   "language": "python",
   "name": "python3"
  },
  "language_info": {
   "codemirror_mode": {
    "name": "ipython",
    "version": 3
   },
   "file_extension": ".py",
   "mimetype": "text/x-python",
   "name": "python",
   "nbconvert_exporter": "python",
   "pygments_lexer": "ipython3",
   "version": "3.5.2"
  }
 },
 "nbformat": 4,
 "nbformat_minor": 2
}
